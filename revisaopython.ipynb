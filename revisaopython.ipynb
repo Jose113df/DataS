{
 "cells": [
  {
   "cell_type": "markdown",
   "metadata": {},
   "source": [
    "# lista\n"
   ]
  },
  {
   "cell_type": "code",
   "execution_count": 2,
   "metadata": {},
   "outputs": [
    {
     "data": {
      "text/plain": [
       "list"
      ]
     },
     "execution_count": 2,
     "metadata": {},
     "output_type": "execute_result"
    }
   ],
   "source": [
    "# Residencial, comercial e fazenda.\n",
    "\n",
    "tipos_imoveis = [\"residencial\",\"comercial\",\"fazenda\"]\n",
    "\n",
    "type(tipos_imoveis)"
   ]
  },
  {
   "cell_type": "markdown",
   "metadata": {},
   "source": [
    "### A lista muda, mas a tupla não."
   ]
  },
  {
   "cell_type": "code",
   "execution_count": 5,
   "metadata": {},
   "outputs": [
    {
     "data": {
      "text/plain": [
       "tuple"
      ]
     },
     "execution_count": 5,
     "metadata": {},
     "output_type": "execute_result"
    }
   ],
   "source": [
    "tipos_imoveis = (\"residencial\",\"comercial\",\"fazenda\")\n",
    "type(tipos_imoveis)"
   ]
  },
  {
   "cell_type": "markdown",
   "metadata": {},
   "source": [
    "Conjuntos\n",
    "{ itens }"
   ]
  },
  {
   "cell_type": "code",
   "execution_count": 12,
   "metadata": {},
   "outputs": [
    {
     "data": {
      "text/plain": [
       "set"
      ]
     },
     "execution_count": 12,
     "metadata": {},
     "output_type": "execute_result"
    }
   ],
   "source": [
    "tipos_imoveis = {\"residencial\",\"comercial\",\"fazenda\",\"residencial\"}\n",
    "tipos_imoveis\n",
    "type(tipos_imoveis)"
   ]
  },
  {
   "cell_type": "markdown",
   "metadata": {},
   "source": [
    "list (lista)    -[]  mutável\n",
    "\n",
    "tuple (tupla)   -() imutável\n",
    "\n",
    "set (conjuntos) -{} não repetir\n",
    "\n",
    "## - Crie uma lista de vitorias do seu time\n",
    "\n",
    "## - Crie uma tupla de fastfood\n",
    "\n",
    "## - Crie um conjunto de itens de compra do supermercado\n"
   ]
  },
  {
   "cell_type": "markdown",
   "metadata": {},
   "source": [
    "### Lista []"
   ]
  },
  {
   "cell_type": "code",
   "execution_count": 15,
   "metadata": {},
   "outputs": [
    {
     "data": {
      "text/plain": [
       "['VCT 2023: Americas League',\n",
       " 'VALORANT Champions 2022',\n",
       " 'VCT 2022: Brazil Stage 2 Challengers',\n",
       " 'VCT 2022 Brazil Stage 1 Challengers']"
      ]
     },
     "execution_count": 15,
     "metadata": {},
     "output_type": "execute_result"
    }
   ],
   "source": [
    "vitorias_loud = [\"VCT 2023: Americas League\",\"VALORANT Champions 2022\",\"VCT 2022: Brazil Stage 2 Challengers\",\"VCT 2022 Brazil Stage 1 Challengers\"]\n",
    "vitorias_loud"
   ]
  },
  {
   "cell_type": "markdown",
   "metadata": {},
   "source": [
    "### Tupla ()"
   ]
  },
  {
   "cell_type": "code",
   "execution_count": 14,
   "metadata": {},
   "outputs": [
    {
     "data": {
      "text/plain": [
       "('Big Mac', 'MChicken', 'MChedar', 'MChedar')"
      ]
     },
     "execution_count": 14,
     "metadata": {},
     "output_type": "execute_result"
    }
   ],
   "source": [
    "Mcdonalds = (\"Big Mac\",\"MChicken\",\"MChedar\",\"MChedar\")\n",
    "Mcdonalds"
   ]
  },
  {
   "cell_type": "markdown",
   "metadata": {},
   "source": [
    "### Conjunto {}"
   ]
  },
  {
   "cell_type": "code",
   "execution_count": 16,
   "metadata": {},
   "outputs": [
    {
     "data": {
      "text/plain": [
       "{'Arroz', 'Carne', 'Feijão', 'Macarrão'}"
      ]
     },
     "execution_count": 16,
     "metadata": {},
     "output_type": "execute_result"
    }
   ],
   "source": [
    "Tatico = {\"Arroz\",\"Feijão\",\"Carne\",\"Macarrão\"}\n",
    "Tatico"
   ]
  },
  {
   "cell_type": "markdown",
   "metadata": {},
   "source": [
    "### Dicionario {\n",
    "\n",
    "### }"
   ]
  },
  {
   "cell_type": "code",
   "execution_count": 19,
   "metadata": {},
   "outputs": [
    {
     "name": "stdout",
     "output_type": "stream",
     "text": [
      "3\n",
      "Taguatinga: 3\n",
      "Braszlandia: 5\n",
      "Ceilandia: 2\n",
      "Candangolandia: 4\n"
     ]
    }
   ],
   "source": [
    "apartamentos = {\n",
    "\"Taguatinga\": 3,\n",
    "\"Braszlandia\": 5,\n",
    "\"Ceilandia\": 2\n",
    "}\n",
    "\n",
    "# Acessando valores no dicionário\n",
    "print(apartamentos[\"Taguatinga\"])\n",
    "\n",
    "#Adicionando ao dicionário\n",
    "apartamentos[\"Candangolandia\"] = 4\n",
    "\n",
    "# Iterando sobre as chaves e valores\n",
    "for apartamentos, quantidade in apartamentos.items():\n",
    "    print(f\"{apartamentos}: {quantidade}\")\n"
   ]
  },
  {
   "cell_type": "code",
   "execution_count": 20,
   "metadata": {},
   "outputs": [
    {
     "data": {
      "text/plain": [
       "dict"
      ]
     },
     "execution_count": 20,
     "metadata": {},
     "output_type": "execute_result"
    }
   ],
   "source": [
    "apartamentos = {\n",
    "\"Taguatinga\": 3,\n",
    "\"Braszlandia\": 5,\n",
    "\"Ceilandia\": 2\n",
    "}\n",
    "type(apartamentos)"
   ]
  },
  {
   "cell_type": "markdown",
   "metadata": {},
   "source": [
    "# Quinta"
   ]
  },
  {
   "cell_type": "code",
   "execution_count": 22,
   "metadata": {},
   "outputs": [
    {
     "name": "stdout",
     "output_type": "stream",
     "text": [
      "Paradigma: 9\n",
      "Objeto: 6\n",
      "Classe: 5\n",
      "Método: 4\n",
      "Herança: 2\n",
      "Polimorfismo: 10\n",
      "Encapsulamento: 5\n"
     ]
    }
   ],
   "source": [
    "quinta={\n",
    "\"Paradigma\":9,\n",
    "\"Objeto\":6,\n",
    "\"Classe\":5,\n",
    "\"Método\":4,\n",
    "\"Herança\":2,\n",
    "\"Polimorfismo\":10,\n",
    "\"Encapsulamento\":5\n",
    "}\n",
    "for quinta, quantidade in quinta.items():\n",
    "    print(f\"{quinta}: {quantidade}\")"
   ]
  },
  {
   "cell_type": "markdown",
   "metadata": {},
   "source": [
    "# Sexta"
   ]
  },
  {
   "cell_type": "code",
   "execution_count": 21,
   "metadata": {},
   "outputs": [
    {
     "name": "stdout",
     "output_type": "stream",
     "text": [
      "Média: 5\n",
      "Mediana: 10\n",
      "Moda: 10\n",
      "Quartis: 40\n",
      "Desvio Padrão: 60\n"
     ]
    }
   ],
   "source": [
    "sexta = {\n",
    "\"Média\" : 5,\n",
    "\"Mediana\" : 10,\n",
    "\"Moda\" : 10,\n",
    "\"Quartis\" : 40,\n",
    "\"Desvio Padrão\": 60\n",
    "}\n",
    "for sexta, quantidade in sexta.items():\n",
    "    print(f\"{sexta}: {quantidade}\")"
   ]
  }
 ],
 "metadata": {
  "kernelspec": {
   "display_name": ".venv",
   "language": "python",
   "name": "python3"
  },
  "language_info": {
   "codemirror_mode": {
    "name": "ipython",
    "version": 3
   },
   "file_extension": ".py",
   "mimetype": "text/x-python",
   "name": "python",
   "nbconvert_exporter": "python",
   "pygments_lexer": "ipython3",
   "version": "3.12.4"
  }
 },
 "nbformat": 4,
 "nbformat_minor": 2
}
